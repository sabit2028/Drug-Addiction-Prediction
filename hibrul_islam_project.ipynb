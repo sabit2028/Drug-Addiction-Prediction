{
  "nbformat": 4,
  "nbformat_minor": 0,
  "metadata": {
    "colab": {
      "provenance": []
    },
    "kernelspec": {
      "name": "python3",
      "display_name": "Python 3"
    },
    "language_info": {
      "name": "python"
    }
  },
  "cells": [
    {
      "cell_type": "markdown",
      "source": [
        "**Name: Hibrul Islam**\n",
        "\n",
        "        project name: Drug Addiction Prediction"
      ],
      "metadata": {
        "id": "2nLp1vEdAfk2"
      }
    },
    {
      "cell_type": "code",
      "execution_count": null,
      "metadata": {
        "id": "VrX2IdtT-aZ7"
      },
      "outputs": [],
      "source": [
        "\n",
        "import numpy as np # linear algebra\n",
        "import pandas as pd # data processing, CSV file I/O (e.g. pd.read_csv)\n",
        "import os\n",
        "for dirname, _, filenames in os.walk('/kaggle/input'):\n",
        "    for filename in filenames:\n",
        "        print(os.path.join(dirname, filename))"
      ]
    },
    {
      "cell_type": "code",
      "source": [
        "import matplotlib.pyplot as plt\n",
        "import seaborn as sb\n",
        "pd.set_option(\"display.max_columns\",None)"
      ],
      "metadata": {
        "id": "reCsDYpPIHgj"
      },
      "execution_count": null,
      "outputs": []
    },
    {
      "cell_type": "code",
      "source": [
        "df=pd.read_csv(\"/kaggle/input/drug-addiction-in-bangladesh-reasons-smote/DrugAddictioninBangladesh_Smoted.csv\")\n",
        "df.head()"
      ],
      "metadata": {
        "id": "GkTNrS9dILnj"
      },
      "execution_count": null,
      "outputs": []
    },
    {
      "cell_type": "code",
      "source": [
        "df.tail()"
      ],
      "metadata": {
        "id": "OxQnv3faIOXD"
      },
      "execution_count": null,
      "outputs": []
    },
    {
      "cell_type": "code",
      "source": [
        "df.shape"
      ],
      "metadata": {
        "id": "SD3OE8lNIQ47"
      },
      "execution_count": null,
      "outputs": []
    },
    {
      "cell_type": "code",
      "source": [
        "df.info()"
      ],
      "metadata": {
        "id": "AdgEveW5ITwz"
      },
      "execution_count": null,
      "outputs": []
    },
    {
      "cell_type": "code",
      "source": [
        "col=df.columns\n",
        "for i in col:\n",
        "    df[i]=(df[i].values).astype(int)"
      ],
      "metadata": {
        "id": "KOv4CVp5IWrM"
      },
      "execution_count": null,
      "outputs": []
    },
    {
      "cell_type": "code",
      "source": [
        "for i in col:\n",
        "    print(i,df[i].unique())"
      ],
      "metadata": {
        "id": "SFRPALkFIaXU"
      },
      "execution_count": null,
      "outputs": []
    },
    {
      "cell_type": "code",
      "source": [
        "df.groupby(df[\"Class\"]).size()"
      ],
      "metadata": {
        "id": "9DKgX2peIdM0"
      },
      "execution_count": null,
      "outputs": []
    },
    {
      "cell_type": "code",
      "source": [
        "df.describe()"
      ],
      "metadata": {
        "id": "yKtZAQVDIgVb"
      },
      "execution_count": null,
      "outputs": []
    },
    {
      "cell_type": "code",
      "source": [
        "df.isnull().sum()"
      ],
      "metadata": {
        "id": "90CuyoCYIjPr"
      },
      "execution_count": null,
      "outputs": []
    },
    {
      "cell_type": "code",
      "source": [
        "def lowerupper(col):\n",
        "    q1=np.quantile(col,.25)\n",
        "    q3=np.quantile(col,.75)\n",
        "    inter=q3-q1\n",
        "    lowerbound=q1-(inter*1.5)\n",
        "    upperbound=q3+(inter*1.5)\n",
        "    outlier=[]\n",
        "    for x in col:\n",
        "        if((x>upperbound)or(x<lowerbound)):\n",
        "            outlier.append(x)\n",
        "    return outlier"
      ],
      "metadata": {
        "id": "NAo9XuQiIngN"
      },
      "execution_count": null,
      "outputs": []
    },
    {
      "cell_type": "code",
      "source": [
        "col=df.columns\n",
        "print(col)"
      ],
      "metadata": {
        "id": "VDZwEvJxIraz"
      },
      "execution_count": null,
      "outputs": []
    },
    {
      "cell_type": "code",
      "source": [
        "for i in col:\n",
        "    outlier=lowerupper(df[i].values)\n",
        "    print(len(outlier),\"outliers are present in\",i)"
      ],
      "metadata": {
        "id": "Fo3DRDMdIt_7"
      },
      "execution_count": null,
      "outputs": []
    },
    {
      "cell_type": "code",
      "source": [
        "plt.subplot(1,4,1)\n",
        "plt.subplots_adjust(left=0,right=2,bottom=1,top=2,wspace=0.2,hspace=0.4)\n",
        "label_age=[2,1 ,3 ,4]\n",
        "plt.title(\"Age\")\n",
        "plt.pie(df.groupby(df[\"Age\"]).size(),labels=label_age)\n",
        "\n",
        "plt.subplot(1,4,2)\n",
        "label_gen=[1 ,2]\n",
        "plt.title(\"Gender\")\n",
        "plt.pie(df.groupby(df[\"Gender\"]).size(),labels=label_gen)\n",
        "\n",
        "plt.subplot(1,4,3)\n",
        "label_ed=[4 ,3 ,5 ,1 ,2]\n",
        "plt.title(\"Education\")\n",
        "plt.pie(df.groupby(df[\"Education\"]).size(),labels=label_ed)\n",
        "\n",
        "plt.subplot(1,4,4)\n",
        "label_lw=[2 ,1]\n",
        "plt.title(\"Live with\")\n",
        "plt.pie(df.groupby(df[\"Live with\"]).size(),labels=label_lw)"
      ],
      "metadata": {
        "id": "H8xEU82pIw0a"
      },
      "execution_count": null,
      "outputs": []
    },
    {
      "cell_type": "code",
      "source": [
        "plt.subplot(1,4,1)\n",
        "plt.subplots_adjust(left=0,right=2,bottom=1,top=2,wspace=0.2,hspace=0.4)\n",
        "label_md=[1, 3, 2]\n",
        "plt.title(\"Motive about drug\")\n",
        "plt.pie(df.groupby(df[\"Motive about drug\"]).size(),labels=label_md)\n",
        "\n",
        "plt.subplot(1,4,2)\n",
        "label_st=[3, 2, 1]\n",
        "plt.title(\"Spend most time\")\n",
        "plt.pie(df.groupby(df[\"Spend most time\"]).size(),labels=label_st)\n",
        "\n",
        "plt.subplot(1,4,3)\n",
        "label_fl=[1 ,2]\n",
        "plt.title(\"Failure in life\")\n",
        "plt.pie(df.groupby(df[\"Failure in life\"]).size(),labels=label_fl)\n",
        "\n",
        "plt.subplot(1,4,4)\n",
        "label_mp=[1, 2, 3, 5, 4]\n",
        "plt.title(\"Mental/emotional problem\")\n",
        "plt.pie(df.groupby(df[\"Mental/emotional problem\"]).size(),labels=label_mp)"
      ],
      "metadata": {
        "id": "AfgASoSGI27_"
      },
      "execution_count": null,
      "outputs": []
    },
    {
      "cell_type": "code",
      "source": [
        "plt.subplot(1,4,1)\n",
        "plt.subplots_adjust(left=0,right=2,bottom=1,top=2,wspace=0.2,hspace=0.4)\n",
        "label_st=[1 ,2]\n",
        "plt.title(\"Suicidal thoughts\")\n",
        "plt.pie(df.groupby(df[\"Suicidal thoughts\"]).size(),labels=label_st)\n",
        "\n",
        "plt.subplot(1,4,2)\n",
        "label_fr=[1, 2, 3]\n",
        "plt.title(\"Family relationship\")\n",
        "plt.pie(df.groupby(df[\"Family relationship\"]).size(),labels=label_fr)\n",
        "\n",
        "plt.subplot(1,4,3)\n",
        "label_ff=[3, 2 ,4 ,1]\n",
        "plt.title(\"Financials of family\")\n",
        "plt.pie(df.groupby(df[\"Financials of family\"]).size(),labels=label_ff)\n",
        "\n",
        "plt.subplot(1,4,4)\n",
        "label_af=[2, 3, 1]\n",
        "plt.title(\"Addicted person in family\")\n",
        "plt.pie(df.groupby(df[\"Addicted person in family\"]).size(),labels=label_af)"
      ],
      "metadata": {
        "id": "ArTQsN8JI26V"
      },
      "execution_count": null,
      "outputs": []
    },
    {
      "cell_type": "code",
      "source": [
        "plt.subplot(1,4,1)\n",
        "plt.subplots_adjust(left=0,right=2,bottom=1,top=2,wspace=0.2,hspace=0.4)\n",
        "label_ws=[2, 1]\n",
        "plt.title(\"Withdrawal symptoms\")\n",
        "plt.pie(df.groupby(df[\"Withdrawal symptoms\"]).size(),labels=label_ws)\n",
        "\n",
        "plt.subplot(1,4,2)\n",
        "label_sw=[2, 1]\n",
        "plt.title(\"Satisfied with workplace\")\n",
        "plt.pie(df.groupby(df[\"Satisfied with workplace\"]).size(),labels=label_sw)\n",
        "\n",
        "plt.subplot(1,4,3)\n",
        "label_cc=[2 ,1]\n",
        "plt.title(\"Case in court\")\n",
        "plt.pie(df.groupby(df[\"Case in court\"]).size(),labels=label_cc)\n",
        "\n",
        "plt.subplot(1,4,4)\n",
        "label_lu=[1, 2, 3]\n",
        "plt.title(\"Living with drug user\")\n",
        "plt.pie(df.groupby(df[\"Living with drug user\"]).size(),labels=label_lu)"
      ],
      "metadata": {
        "id": "tqH12hXBI_2T"
      },
      "execution_count": null,
      "outputs": []
    },
    {
      "cell_type": "code",
      "source": [
        "plt.subplot(1,4,1)\n",
        "plt.subplots_adjust(left=0,right=2,bottom=1,top=2,wspace=0.2,hspace=0.4)\n",
        "label_s=[1, 2, 3]\n",
        "plt.title(\"Smoking\")\n",
        "plt.pie(df.groupby(df[\"Smoking\"]).size(),labels=label_s)\n",
        "\n",
        "plt.subplot(1,4,2)\n",
        "label_etd=[1, 2]\n",
        "plt.title(\"Ever taken drug\")\n",
        "plt.pie(df.groupby(df[\"Ever taken drug\"]).size(),labels=label_etd)\n",
        "\n",
        "plt.subplot(1,4,3)\n",
        "label_fi=[1, 2]\n",
        "plt.title(\"Friends influence\")\n",
        "plt.pie(df.groupby(df[\"Friends influence\"]).size(),labels=label_fi)\n",
        "\n",
        "plt.subplot(1,4,4)\n",
        "label_id=[1, 3, 2]\n",
        "plt.title(\"If chance given to taste drugs\")\n",
        "plt.pie(df.groupby(df[\"If chance given to taste drugs\"]).size(),labels=label_id)"
      ],
      "metadata": {
        "id": "f7yZaXASJEeb"
      },
      "execution_count": null,
      "outputs": []
    },
    {
      "cell_type": "code",
      "source": [
        "plt.figure()\n",
        "label_c=[2, 3, 4, 1]\n",
        "plt.title(\"Class\")\n",
        "plt.pie(df.groupby(df[\"Class\"]).size(),labels=label_c)\n",
        "plt.show()"
      ],
      "metadata": {
        "id": "yeIW5XXTJIMk"
      },
      "execution_count": null,
      "outputs": []
    },
    {
      "cell_type": "code",
      "source": [
        "plt.subplot(1,3,1)\n",
        "plt.subplots_adjust(left=0,right=2,bottom=1,top=2,wspace=0.2,hspace=0.4)\n",
        "plt.title(\"Age\")\n",
        "sb.barplot(data=df,x=\"Class\",y=\"Age\")\n",
        "\n",
        "plt.subplot(1,3,2)\n",
        "plt.title(\"Gender\")\n",
        "sb.barplot(data=df,x=\"Class\",y=\"Gender\")\n",
        "\n",
        "plt.subplot(1,3,3)\n",
        "plt.title(\"Education\")\n",
        "sb.barplot(data=df,x=\"Class\",y=\"Education\")"
      ],
      "metadata": {
        "id": "9ILoIAqfJLF7"
      },
      "execution_count": null,
      "outputs": []
    },
    {
      "cell_type": "code",
      "source": [
        "plt.subplot(1,3,1)\n",
        "plt.subplots_adjust(left=0,right=2,bottom=1,top=2,wspace=0.2,hspace=0.4)\n",
        "plt.title(\"Live with\")\n",
        "sb.barplot(data=df,x=\"Class\",y=\"Live with\")\n",
        "\n",
        "plt.subplot(1,3,2)\n",
        "plt.title(\"Motive about drug\")\n",
        "sb.barplot(data=df,x=\"Class\",y=\"Motive about drug\")\n",
        "\n",
        "plt.subplot(1,3,3)\n",
        "plt.title(\"Spend most time\")\n",
        "sb.barplot(data=df,x=\"Class\",y=\"Spend most time\")"
      ],
      "metadata": {
        "id": "KAtZkG71JOqa"
      },
      "execution_count": null,
      "outputs": []
    },
    {
      "cell_type": "code",
      "source": [
        "plt.subplot(1,3,1)\n",
        "plt.subplots_adjust(left=0,right=2,bottom=1,top=2,wspace=0.2,hspace=0.4)\n",
        "plt.title(\"Failure in life\")\n",
        "sb.barplot(data=df,x=\"Class\",y=\"Failure in life\")\n",
        "\n",
        "plt.subplot(1,3,2)\n",
        "plt.title(\"Mental/emotional problem\")\n",
        "sb.barplot(data=df,x=\"Class\",y=\"Mental/emotional problem\")\n",
        "\n",
        "plt.subplot(1,3,3)\n",
        "plt.title(\"Suicidal thoughts\")\n",
        "sb.barplot(data=df,x=\"Class\",y=\"Suicidal thoughts\")"
      ],
      "metadata": {
        "id": "Y51E_RDdJSAi"
      },
      "execution_count": null,
      "outputs": []
    },
    {
      "cell_type": "code",
      "source": [
        "plt.subplot(1,3,1)\n",
        "plt.subplots_adjust(left=0,right=2,bottom=1,top=2,wspace=0.2,hspace=0.4)\n",
        "plt.title(\"Family relationship\")\n",
        "sb.barplot(data=df,x=\"Class\",y=\"Family relationship\")\n",
        "\n",
        "plt.subplot(1,3,2)\n",
        "plt.title(\"Financials of family\")\n",
        "sb.barplot(data=df,x=\"Class\",y=\"Financials of family\")\n",
        "\n",
        "plt.subplot(1,3,3)\n",
        "plt.title(\"Addicted person in family\")\n",
        "sb.barplot(data=df,x=\"Class\",y=\"Addicted person in family\")"
      ],
      "metadata": {
        "id": "p45XT6rCJVLi"
      },
      "execution_count": null,
      "outputs": []
    },
    {
      "cell_type": "code",
      "source": [
        "plt.subplot(1,3,1)\n",
        "plt.subplots_adjust(left=0,right=2,bottom=1,top=2,wspace=0.2,hspace=0.4)\n",
        "plt.title(\"Withdrawal symptoms\")\n",
        "sb.barplot(data=df,x=\"Class\",y=\"Withdrawal symptoms\")\n",
        "\n",
        "plt.subplot(1,3,2)\n",
        "plt.title(\"Satisfied with workplace\")\n",
        "sb.barplot(data=df,x=\"Class\",y=\"Satisfied with workplace\")\n",
        "\n",
        "plt.subplot(1,3,3)\n",
        "plt.title(\"Case in court\")\n",
        "sb.barplot(data=df,x=\"Class\",y=\"Case in court\")"
      ],
      "metadata": {
        "id": "tLI2iC1xJYtz"
      },
      "execution_count": null,
      "outputs": []
    },
    {
      "cell_type": "code",
      "source": [
        "plt.subplot(1,3,1)\n",
        "plt.subplots_adjust(left=0,right=2,bottom=1,top=2,wspace=0.2,hspace=0.4)\n",
        "plt.title(\"Living with drug user\")\n",
        "sb.barplot(data=df,x=\"Class\",y=\"Living with drug user\")\n",
        "\n",
        "plt.subplot(1,3,2)\n",
        "plt.title(\"Smoking\")\n",
        "sb.barplot(data=df,x=\"Class\",y=\"Smoking\")\n",
        "\n",
        "plt.subplot(1,3,3)\n",
        "plt.title(\"Ever taken drug\")\n",
        "sb.barplot(data=df,x=\"Class\",y=\"Ever taken drug\")"
      ],
      "metadata": {
        "id": "XtgmCvsoJb7j"
      },
      "execution_count": null,
      "outputs": []
    },
    {
      "cell_type": "code",
      "source": [
        "plt.subplot(1,3,1)\n",
        "plt.subplots_adjust(left=0,right=2,bottom=1,top=2,wspace=0.2,hspace=0.4)\n",
        "plt.title(\"Friends influence\")\n",
        "sb.barplot(data=df,x=\"Class\",y=\"Friends influence\")\n",
        "\n",
        "plt.subplot(1,3,2)\n",
        "plt.title(\"If chance given to taste drugs\")\n",
        "sb.barplot(data=df,x=\"Class\",y=\"If chance given to taste drugs\")\n",
        "\n",
        "plt.subplot(1,3,3)\n",
        "plt.title(\"Easy to control use of drug\")\n",
        "sb.barplot(data=df,x=\"Class\",y=\"Easy to control use of drug\")"
      ],
      "metadata": {
        "id": "3-WUNIemJfY6"
      },
      "execution_count": null,
      "outputs": []
    },
    {
      "cell_type": "code",
      "source": [
        "df.columns"
      ],
      "metadata": {
        "id": "-3Wnn7OFJi6i"
      },
      "execution_count": null,
      "outputs": []
    },
    {
      "cell_type": "code",
      "source": [
        "X=df[['Age', 'Gender', 'Education', 'Live with', 'Motive about drug',\n",
        "       'Spend most time', 'Failure in life', 'Mental/emotional problem',\n",
        "       'Suicidal thoughts', 'Family relationship', 'Financials of family',\n",
        "       'Addicted person in family', 'Withdrawal symptoms',\n",
        "       'Satisfied with workplace', 'Case in court', 'Living with drug user',\n",
        "       'Smoking', 'Ever taken drug', 'Friends influence',\n",
        "       'If chance given to taste drugs', 'Easy to control use of drug']]\n",
        "y=df['Class']"
      ],
      "metadata": {
        "id": "o0H4yV2xJloa"
      },
      "execution_count": null,
      "outputs": []
    },
    {
      "cell_type": "code",
      "source": [
        "from sklearn.ensemble import ExtraTreesClassifier\n",
        "from sklearn.feature_selection import SelectKBest, chi2, f_classif"
      ],
      "metadata": {
        "id": "eupU-tPMJpHc"
      },
      "execution_count": null,
      "outputs": []
    },
    {
      "cell_type": "code",
      "source": [
        "model_etc=ExtraTreesClassifier(n_estimators=100).fit(X,y)\n",
        "model_skb_chi=SelectKBest(chi2,k=20).fit(X,y)\n",
        "model_skb_fc=SelectKBest(f_classif,k=20).fit(X,y)\n",
        "scores=pd.DataFrame({\"col\": X, \"ETC\":model_etc.feature_importances_,\"SKB_Chi\":model_skb_chi.scores_,\"SKB_Fc\":model_skb_fc.scores_})\n",
        "scores=scores.sort_values(by=[\"ETC\",\"SKB_Chi\",\"SKB_Fc\"], axis=0, ascending=False, kind=\"quicksort\", na_position=\"last\")"
      ],
      "metadata": {
        "id": "0MEo2lMdJr2S"
      },
      "execution_count": null,
      "outputs": []
    },
    {
      "cell_type": "code",
      "source": [
        "scores"
      ],
      "metadata": {
        "id": "7bQu9RqsJu5S"
      },
      "execution_count": null,
      "outputs": []
    },
    {
      "cell_type": "code",
      "source": [
        "from sklearn.model_selection import train_test_split"
      ],
      "metadata": {
        "id": "WK6sV3sEJxKD"
      },
      "execution_count": null,
      "outputs": []
    },
    {
      "cell_type": "code",
      "source": [
        "X_train,X_test,y_train,y_test=train_test_split(X,y,test_size=0.30,random_state=100)\n",
        "print(X_train.shape,y_train.shape)\n",
        "print(X_test.shape,y_test.shape)"
      ],
      "metadata": {
        "id": "-xJHEjbTJ0LS"
      },
      "execution_count": null,
      "outputs": []
    },
    {
      "cell_type": "code",
      "source": [
        "from sklearn.ensemble import RandomForestClassifier"
      ],
      "metadata": {
        "id": "ZNQOaHggJ2_S"
      },
      "execution_count": null,
      "outputs": []
    },
    {
      "cell_type": "code",
      "source": [
        "model_rc=RandomForestClassifier().fit(X_train,y_train)\n",
        "model_rc=model_rc.predict(X_test)"
      ],
      "metadata": {
        "id": "PL4Jfy3YJ5zi"
      },
      "execution_count": null,
      "outputs": []
    },
    {
      "cell_type": "code",
      "source": [
        "model_rc\n"
      ],
      "metadata": {
        "id": "jC-2Hl6PJ8dC"
      },
      "execution_count": null,
      "outputs": []
    },
    {
      "cell_type": "code",
      "source": [
        "from sklearn.metrics import accuracy_score"
      ],
      "metadata": {
        "id": "_zTVGevqJ_dq"
      },
      "execution_count": null,
      "outputs": []
    },
    {
      "cell_type": "code",
      "source": [
        "accuracy_score(y_test,model_rc)"
      ],
      "metadata": {
        "id": "utql00bLKDUa"
      },
      "execution_count": null,
      "outputs": []
    },
    {
      "cell_type": "code",
      "source": [
        "from sklearn.metrics import confusion_matrix"
      ],
      "metadata": {
        "id": "pdoGHnbgKFoi"
      },
      "execution_count": null,
      "outputs": []
    },
    {
      "cell_type": "code",
      "source": [
        "confusion_matrix(y_test,model_rc)"
      ],
      "metadata": {
        "id": "PfxvUx4IKIMz"
      },
      "execution_count": null,
      "outputs": []
    },
    {
      "cell_type": "code",
      "source": [
        "from sklearn.metrics import classification_report"
      ],
      "metadata": {
        "id": "JfezKJEwKKhK"
      },
      "execution_count": null,
      "outputs": []
    },
    {
      "cell_type": "code",
      "source": [
        "print(classification_report(y_test,model_rc))"
      ],
      "metadata": {
        "id": "_8Kzc_p3KM5r"
      },
      "execution_count": null,
      "outputs": []
    }
  ]
}